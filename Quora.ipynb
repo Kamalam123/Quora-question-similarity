{
 "cells": [
  {
   "cell_type": "markdown",
   "metadata": {
    "colab_type": "text",
    "id": "MRP-fAQedMTd"
   },
   "source": [
    "<h2> 3.6 Featurizing text data with tfidf weighted word-vectors </h2>"
   ]
  },
  {
   "cell_type": "code",
   "execution_count": 1,
   "metadata": {
    "colab": {},
    "colab_type": "code",
    "id": "-3IbomL8dMTi",
    "outputId": "3fa8eb7c-ddf2-4f98-edee-0c49db6502e8"
   },
   "outputs": [],
   "source": [
    "import pandas as pd\n",
    "import matplotlib.pyplot as plt\n",
    "import re\n",
    "import time\n",
    "import warnings\n",
    "import numpy as np\n",
    "from nltk.corpus import stopwords\n",
    "from sklearn.preprocessing import normalize\n",
    "from sklearn.feature_extraction.text import CountVectorizer\n",
    "from sklearn.feature_extraction.text import TfidfVectorizer\n",
    "warnings.filterwarnings(\"ignore\")\n",
    "import sys\n",
    "import os \n",
    "import pandas as pd\n",
    "import numpy as np\n",
    "from tqdm import tqdm\n",
    "\n",
    "# exctract word2vec vectors\n",
    "# https://github.com/explosion/spaCy/issues/1721\n",
    "# http://landinghub.visualstudio.com/visual-cpp-build-tools\n",
    "import spacy"
   ]
  },
  {
   "cell_type": "markdown",
   "metadata": {
    "colab_type": "text",
    "collapsed": true,
    "id": "2JKI2yT4dMUv"
   },
   "source": [
    "- After we find TF-IDF scores, we convert each question to a weighted average of word2vec vectors by these scores.\n",
    "- here we use a pre-trained GLOVE model which comes free with \"Spacy\".  https://spacy.io/usage/vectors-similarity\n",
    "- It is trained on Wikipedia and therefore, it is stronger in terms of word semantics. "
   ]
  },
  {
   "cell_type": "code",
   "execution_count": 7,
   "metadata": {},
   "outputs": [
    {
     "name": "stdout",
     "output_type": "stream",
     "text": [
      "(70000, 21) (70000,)\n",
      "(30000, 21) (30000,)\n"
     ]
    }
   ],
   "source": [
    "if os.path.isfile('nlp_features_train.csv'):\n",
    "    df_new = pd.read_csv(\"nlp_features_train.csv\",encoding='latin-1')\n",
    "else:\n",
    "    print(\"download nlp_features_train.csv from drive or run previous notebook\")\n",
    "    \n",
    "df = df_new.sample(n=100000)\n",
    "df['question1'] = df['question1'].apply(lambda x: str(x))\n",
    "df['question2'] = df['question2'].apply(lambda x: str(x))\n",
    "y=df['is_duplicate']\n",
    "\n",
    "#Splitting data into train and test:\n",
    "\n",
    "from sklearn.model_selection import train_test_split\n",
    "from sklearn.metrics import accuracy_score\n",
    "from sklearn.model_selection import cross_val_score\n",
    "from collections import Counter\n",
    "from sklearn.metrics import accuracy_score\n",
    "from sklearn import model_selection\n",
    "\n",
    "X_train, X_test, y_train, y_test = train_test_split(df, y, test_size=0.3)\n",
    "print(X_train.shape, y_train.shape)\n",
    "print(X_test.shape, y_test.shape)\n",
    "#print(X_train.describe())\n",
    "\n",
    "\n",
    "\n"
   ]
  },
  {
   "cell_type": "code",
   "execution_count": 9,
   "metadata": {},
   "outputs": [
    {
     "name": "stdout",
     "output_type": "stream",
     "text": [
      "Index(['id', 'qid1', 'qid2', 'question1', 'question2', 'is_duplicate',\n",
      "       'cwc_min', 'cwc_max', 'csc_min', 'csc_max', 'ctc_min', 'ctc_max',\n",
      "       'last_word_eq', 'first_word_eq', 'abs_len_diff', 'mean_len',\n",
      "       'token_set_ratio', 'token_sort_ratio', 'fuzz_ratio',\n",
      "       'fuzz_partial_ratio', 'longest_substr_ratio'],\n",
      "      dtype='object')\n"
     ]
    }
   ],
   "source": [
    "X_train.columns\n",
    "print(X_test.columns)\n"
   ]
  },
  {
   "cell_type": "code",
   "execution_count": 10,
   "metadata": {},
   "outputs": [],
   "source": [
    "#Applying TFIDF for train and test dataset\n",
    "from sklearn.feature_extraction.text import TfidfVectorizer\n",
    "from sklearn.feature_extraction.text import CountVectorizer\n",
    "# merge texts\n",
    "questions_train = list(X_train['question1']) + list(X_train['question2'])\n",
    "questions_test = list(X_test['question1']) + list(X_test['question2'])\n",
    "\n",
    "tfidf_train = TfidfVectorizer(lowercase=False, )\n",
    "tfidf_train.fit_transform(questions_train)\n",
    "\n",
    "tfidf_test = TfidfVectorizer(lowercase=False, )\n",
    "tfidf_test.fit_transform(questions_test)\n",
    "\n",
    "# dict key:word and value:tf-idf score\n",
    "word2tfidf_train = dict(zip(tfidf_train.get_feature_names(), tfidf_train.idf_))\n",
    "word2tfidf_test = dict(zip(tfidf_test.get_feature_names(), tfidf_test.idf_))"
   ]
  },
  {
   "cell_type": "code",
   "execution_count": 13,
   "metadata": {},
   "outputs": [
    {
     "name": "stderr",
     "output_type": "stream",
     "text": [
      "100%|██████████| 70000/70000 [13:10<00:00, 88.57it/s]\n",
      "100%|██████████| 70000/70000 [13:05<00:00, 89.10it/s]\n"
     ]
    }
   ],
   "source": [
    "#w2v technique applied on question 1 and 2 for train dataset\n",
    "# en_vectors_web_lg, which includes over 1 million unique vectors.\n",
    "nlp = spacy.load('en_core_web_sm')\n",
    "\n",
    "vecs1_train = []\n",
    "# https://github.com/noamraph/tqdm\n",
    "# tqdm is used to print the progress bar\n",
    "for qu1 in tqdm(list(X_train['question1'])):\n",
    "    doc1 = nlp(qu1) \n",
    "    # 384 is the number of dimensions of vectors \n",
    "    mean_vec1 = np.zeros([len(doc1), len(doc1[0].vector)])\n",
    "    for word1 in doc1:\n",
    "        # word2vec\n",
    "        vec1 = word1.vector\n",
    "        # fetch df score\n",
    "        try:\n",
    "            idf = word2tfidf_train[str(word1)]\n",
    "        except:\n",
    "            idf = 0\n",
    "        # compute final vec\n",
    "        mean_vec1 += vec1 * idf\n",
    "    mean_vec1 = mean_vec1.mean(axis=0)\n",
    "    vecs1_train.append(mean_vec1)\n",
    "X_train['q1_w2v_train'] = list(vecs1_train)\n",
    "\n",
    "\n",
    "\n",
    "vecs2_train = []\n",
    "for qu2 in tqdm(list(X_train['question2'])):\n",
    "    doc2 = nlp(qu2) \n",
    "    mean_vec2 = np.zeros([len(doc1), len(doc2[0].vector)])\n",
    "    for word2 in doc2:\n",
    "        # word2vec\n",
    "        vec2 = word2.vector\n",
    "        # fetch df score\n",
    "        try:\n",
    "            idf = word2tfidf_train[str(word2)]\n",
    "        except:\n",
    "            #print word\n",
    "            idf = 0\n",
    "        # compute final vec\n",
    "        mean_vec2 += vec2 * idf\n",
    "    mean_vec2 = mean_vec2.mean(axis=0)\n",
    "    vecs2_train.append(mean_vec2)\n",
    "X_train['q2_w2v_train'] = list(vecs2_train)"
   ]
  },
  {
   "cell_type": "code",
   "execution_count": 37,
   "metadata": {},
   "outputs": [
    {
     "name": "stderr",
     "output_type": "stream",
     "text": [
      "100%|██████████| 30000/30000 [05:58<00:00, 83.63it/s]\n",
      "100%|██████████| 30000/30000 [06:17<00:00, 79.55it/s]\n"
     ]
    }
   ],
   "source": [
    "#w2v technique applied on question 1 and 2 for test dataset\n",
    "\n",
    "# en_vectors_web_lg, which includes over 1 million unique vectors.\n",
    "nlp = spacy.load('en_core_web_sm')\n",
    "\n",
    "vecs1_test = []\n",
    "# https://github.com/noamraph/tqdm\n",
    "# tqdm is used to print the progress bar\n",
    "for qu1 in tqdm(list(X_test['question1'])):\n",
    "    doc1 = nlp(qu1) \n",
    "    # 384 is the number of dimensions of vectors \n",
    "    mean_vec1 = np.zeros([len(doc1), len(doc1[0].vector)])\n",
    "    for word1 in doc1:\n",
    "        # word2vec\n",
    "        vec1 = word1.vector\n",
    "        # fetch df score\n",
    "        try:\n",
    "            idf = word2tfidf_train[str(word1)]\n",
    "        except:\n",
    "            idf = 0\n",
    "        # compute final vec\n",
    "        mean_vec1 += vec1 * idf\n",
    "    mean_vec1 = mean_vec1.mean(axis=0)\n",
    "    vecs1_test.append(mean_vec1)\n",
    "X_test['q1_w2v_test'] = list(vecs1_test)\n",
    "\n",
    "\n",
    "\n",
    "vecs2_test = []\n",
    "for qu2 in tqdm(list(X_test['question2'])):\n",
    "    doc2 = nlp(qu2) \n",
    "    mean_vec2 = np.zeros([len(doc1), len(doc2[0].vector)])\n",
    "    for word2 in doc2:\n",
    "        # word2vec\n",
    "        vec2 = word2.vector\n",
    "        # fetch df score\n",
    "        try:\n",
    "            idf = word2tfidf_test[str(word2)]\n",
    "        except:\n",
    "            #print word\n",
    "            idf = 0\n",
    "        # compute final vec\n",
    "        mean_vec2 += vec2 * idf\n",
    "    mean_vec2 = mean_vec2.mean(axis=0)\n",
    "    vecs2_test.append(mean_vec2)\n",
    "X_test['q2_w2v_test'] = list(vecs2_test)"
   ]
  },
  {
   "cell_type": "code",
   "execution_count": 42,
   "metadata": {},
   "outputs": [],
   "source": [
    "#Concatenating the w2v fields\n",
    "df1 = X_train.drop(['qid1','qid2','question1','question2','is_duplicate'],axis=1)\n",
    "df1_q1 = pd.DataFrame(X_train.q1_w2v_train.values.tolist(), index= df1.index)\n",
    "df1_q2 = pd.DataFrame(X_train.q2_w2v_train.values.tolist(), index= df1.index)\n",
    "#X_train_final = df1.shape[1]+df1_q1.shape[1]+df1_q2.shape[1]\n",
    "\n",
    "df2 = X_test.drop(['qid1','qid2','question1','question2','is_duplicate'],axis=1)\n",
    "df2_q1 = pd.DataFrame(X_test.q1_w2v_test.values.tolist(), index= df2.index)\n",
    "df2_q2 = pd.DataFrame(X_test.q2_w2v_test.values.tolist(), index= df2.index)"
   ]
  },
  {
   "cell_type": "code",
   "execution_count": 43,
   "metadata": {},
   "outputs": [
    {
     "name": "stdout",
     "output_type": "stream",
     "text": [
      "Number of features in train dataframe : 18\n",
      "Number of features in question1 w2v  dataframe : 96\n",
      "Number of features in question2 w2v  dataframe : 96\n",
      "Number of features in final train dataframe  : 210\n",
      "Number of features in test dataframe : 18\n",
      "Number of features in question1 w2v  dataframe : 96\n",
      "Number of features in question2 w2v  dataframe : 96\n",
      "Number of features in final test dataframe  : 210\n"
     ]
    }
   ],
   "source": [
    "print(\"Number of features in train dataframe :\", df1.shape[1])\n",
    "print(\"Number of features in question1 w2v  dataframe :\", df1_q1.shape[1])\n",
    "print(\"Number of features in question2 w2v  dataframe :\", df1_q2.shape[1])\n",
    "print(\"Number of features in final train dataframe  :\", df1.shape[1]+df1_q1.shape[1]+df1_q2.shape[1])\n",
    "\n",
    "print(\"Number of features in test dataframe :\", df2.shape[1])\n",
    "print(\"Number of features in question1 w2v  dataframe :\", df2_q1.shape[1])\n",
    "print(\"Number of features in question2 w2v  dataframe :\", df2_q2.shape[1])\n",
    "print(\"Number of features in final test dataframe  :\", df2.shape[1]+df2_q1.shape[1]+df2_q2.shape[1])\n",
    "\n"
   ]
  },
  {
   "cell_type": "code",
   "execution_count": 69,
   "metadata": {},
   "outputs": [],
   "source": [
    "#concatenating to train dataset\n",
    "df1_q1['id']=df1['id']\n",
    "df1_q2['id']=df1['id']\n",
    "df_x  = df1.merge(df1_q1, on='id',how='left')\n",
    "X_train_final = df_x.merge(df1_q2,on='id',how='left' )\n",
    "\n",
    "#concatenating to test dataset\n",
    "df2_q1['id']=df2['id']\n",
    "df2_q2['id']=df2['id']\n",
    "df_y  = df2.merge(df2_q1, on='id',how='left')\n",
    "X_test_final = df_y.merge(df2_q2,on='id',how='left' )\n",
    "\n",
    "\n",
    "X_train_final = X_train_final.drop(\"q1_w2v_train\",axis=1)\n",
    "X_train_final = X_train_final.drop(\"q2_w2v_train\",axis=1)\n",
    "X_test_final = X_test_final.drop(\"q1_w2v_test\",axis=1)\n",
    "X_test_final = X_test_final.drop(\"q2_w2v_test\",axis=1)\n",
    "X_train_final = X_train_final.drop('id',axis=1)\n",
    "X_test_final = X_test_final.drop(\"id\",axis=1)\n"
   ]
  },
  {
   "cell_type": "code",
   "execution_count": 67,
   "metadata": {},
   "outputs": [
    {
     "name": "stdout",
     "output_type": "stream",
     "text": [
      "Fitting 3 folds for each of 5 candidates, totalling 15 fits\n"
     ]
    },
    {
     "name": "stderr",
     "output_type": "stream",
     "text": [
      "[Parallel(n_jobs=-1)]: Using backend LokyBackend with 4 concurrent workers.\n",
      "[Parallel(n_jobs=-1)]: Done  15 out of  15 | elapsed: 20.5min finished\n"
     ]
    },
    {
     "name": "stdout",
     "output_type": "stream",
     "text": [
      "Random_search - cv results:\n",
      "{'mean_fit_time': array([311.61093807, 197.9839193 , 313.73161101, 367.51402052,\n",
      "       292.53953354]), 'std_fit_time': array([ 6.15862931,  6.79822028,  5.86097101,  3.72374513, 45.06704597]), 'mean_score_time': array([0.52936371, 0.482361  , 0.5320305 , 0.65437078, 0.44066763]), 'std_score_time': array([0.00784607, 0.01643932, 0.00993369, 0.10235264, 0.03012608]), 'param_max_depth': masked_array(data=[5, 3, 5, 6, 6],\n",
      "             mask=[False, False, False, False, False],\n",
      "       fill_value='?',\n",
      "            dtype=object), 'param_eta': masked_array(data=[3, 0, 0.1, 0.1, 3],\n",
      "             mask=[False, False, False, False, False],\n",
      "       fill_value='?',\n",
      "            dtype=object), 'params': [{'max_depth': 5, 'eta': 3}, {'max_depth': 3, 'eta': 0}, {'max_depth': 5, 'eta': 0.1}, {'max_depth': 6, 'eta': 0.1}, {'max_depth': 6, 'eta': 3}], 'split0_test_score': array([0.77256364, 0.7563641 , 0.77256364, 0.77517785, 0.77517785]), 'split1_test_score': array([0.77375391, 0.75502507, 0.77375391, 0.77551108, 0.77551108]), 'split2_test_score': array([0.77555394, 0.75562508, 0.77555394, 0.77898256, 0.77898256]), 'mean_test_score': array([0.77395714, 0.75567143, 0.77395714, 0.77655714, 0.77655714]), 'std_test_score': array([0.00122922, 0.00054764, 0.00122922, 0.0017204 , 0.0017204 ]), 'rank_test_score': array([3, 5, 3, 1, 1])}\n",
      "Random_search Best Hyperparameters:\n",
      "{'max_depth': 6, 'eta': 0.1}\n"
     ]
    },
    {
     "data": {
      "text/plain": [
       "0.7765571428571428"
      ]
     },
     "execution_count": 67,
     "metadata": {},
     "output_type": "execute_result"
    }
   ],
   "source": [
    "#xgboost hyperparamater tuning for tfidf weighted w2v: eta and max_depth\n",
    "from sklearn import svm\n",
    "from sklearn.model_selection import RandomizedSearchCV\n",
    "import xgboost as xgb\n",
    "from xgboost.sklearn import XGBClassifier\n",
    "from sklearn.calibration import CalibratedClassifierCV,calibration_curve\n",
    "from sklearn.model_selection import StratifiedKFold\n",
    "eta = [0.001, 0.01, 0.1, 0.2, 0,3]\n",
    "max_depth = [3,4,5,6]\n",
    "#eval_metric = 'neg_log_loss'\n",
    "params = {'eta':eta,'max_depth':max_depth}\n",
    "#fit_params = {'eval_metric': 'logloss'}\n",
    "\n",
    "xgb = XGBClassifier(objective='binary:logistic',eval_metric = 'logloss')\n",
    "\n",
    "folds = 3\n",
    "param_comb = 5\n",
    "random_search = RandomizedSearchCV(xgb, param_distributions=params,n_iter=param_comb,verbose=3,random_state=1001,n_jobs=-1)\n",
    "\n",
    "random_search.fit(X_train_final, y_train)\n",
    "\n",
    "print(\"Random_search - cv results:\")\n",
    "print(random_search.cv_results_)\n",
    "print(\"Random_search Best Hyperparameters:\")\n",
    "print(random_search.best_params_)\n",
    "# summarize the results of the grid search\n",
    "(random_search.best_score_)\n"
   ]
  },
  {
   "cell_type": "code",
   "execution_count": 79,
   "metadata": {},
   "outputs": [
    {
     "name": "stdout",
     "output_type": "stream",
     "text": [
      "[0]\ttrain-logloss:0.660432\tvalid-logloss:0.661163\n",
      "Multiple eval metrics have been passed: 'valid-logloss' will be used for early stopping.\n",
      "\n",
      "Will train until valid-logloss hasn't improved in 20 rounds.\n",
      "[10]\ttrain-logloss:0.512265\tvalid-logloss:0.520212\n",
      "[20]\ttrain-logloss:0.465378\tvalid-logloss:0.480391\n",
      "[30]\ttrain-logloss:0.443409\tvalid-logloss:0.463803\n",
      "[40]\ttrain-logloss:0.429859\tvalid-logloss:0.454795\n",
      "[50]\ttrain-logloss:0.419956\tvalid-logloss:0.449397\n",
      "[60]\ttrain-logloss:0.411313\tvalid-logloss:0.445534\n",
      "[70]\ttrain-logloss:0.401141\tvalid-logloss:0.441608\n",
      "[80]\ttrain-logloss:0.392386\tvalid-logloss:0.43848\n",
      "[90]\ttrain-logloss:0.383733\tvalid-logloss:0.435725\n",
      "[100]\ttrain-logloss:0.375962\tvalid-logloss:0.4336\n",
      "[110]\ttrain-logloss:0.368928\tvalid-logloss:0.431362\n",
      "[120]\ttrain-logloss:0.36214\tvalid-logloss:0.429666\n",
      "[130]\ttrain-logloss:0.355712\tvalid-logloss:0.428178\n",
      "[140]\ttrain-logloss:0.349334\tvalid-logloss:0.426727\n",
      "[150]\ttrain-logloss:0.342402\tvalid-logloss:0.425498\n",
      "[160]\ttrain-logloss:0.336617\tvalid-logloss:0.424302\n",
      "[170]\ttrain-logloss:0.331432\tvalid-logloss:0.423222\n",
      "[180]\ttrain-logloss:0.325389\tvalid-logloss:0.421865\n",
      "[190]\ttrain-logloss:0.319406\tvalid-logloss:0.42049\n",
      "[200]\ttrain-logloss:0.314978\tvalid-logloss:0.419847\n",
      "[210]\ttrain-logloss:0.310129\tvalid-logloss:0.418958\n",
      "[220]\ttrain-logloss:0.30422\tvalid-logloss:0.418166\n",
      "[230]\ttrain-logloss:0.299674\tvalid-logloss:0.417244\n",
      "[240]\ttrain-logloss:0.294145\tvalid-logloss:0.416625\n",
      "[250]\ttrain-logloss:0.289137\tvalid-logloss:0.415918\n",
      "[260]\ttrain-logloss:0.284396\tvalid-logloss:0.41534\n",
      "[270]\ttrain-logloss:0.279856\tvalid-logloss:0.414687\n",
      "[280]\ttrain-logloss:0.276339\tvalid-logloss:0.414246\n",
      "[290]\ttrain-logloss:0.272087\tvalid-logloss:0.413716\n",
      "[300]\ttrain-logloss:0.267048\tvalid-logloss:0.413014\n",
      "[310]\ttrain-logloss:0.262184\tvalid-logloss:0.412327\n",
      "[320]\ttrain-logloss:0.259349\tvalid-logloss:0.411944\n",
      "[330]\ttrain-logloss:0.256315\tvalid-logloss:0.411604\n",
      "[340]\ttrain-logloss:0.252796\tvalid-logloss:0.411233\n",
      "[350]\ttrain-logloss:0.248545\tvalid-logloss:0.410924\n",
      "[360]\ttrain-logloss:0.245168\tvalid-logloss:0.410442\n",
      "[370]\ttrain-logloss:0.240923\tvalid-logloss:0.410075\n",
      "[380]\ttrain-logloss:0.238061\tvalid-logloss:0.409679\n",
      "[390]\ttrain-logloss:0.234778\tvalid-logloss:0.409584\n",
      "[399]\ttrain-logloss:0.231282\tvalid-logloss:0.409124\n",
      "The test log loss is: 0.4091307594648042\n"
     ]
    }
   ],
   "source": [
    "# Applying XGBoost for tfidf weighted w2v vectors:\n",
    "import xgboost as xgb\n",
    "from sklearn.metrics import log_loss\n",
    "params = {}\n",
    "params['objective'] = 'binary:logistic'\n",
    "params['eval_metric'] = 'logloss'\n",
    "params['eta'] = 0.1\n",
    "params['max_depth'] = 6\n",
    "\n",
    "d_train = xgb.DMatrix(X_train_final, label=y_train)\n",
    "d_test = xgb.DMatrix(X_test_final, label=y_test)\n",
    "\n",
    "watchlist = [(d_train, 'train'), (d_test, 'valid')]\n",
    "\n",
    "bst = xgb.train(params, d_train, 400, watchlist, early_stopping_rounds=20, verbose_eval=10)\n",
    "\n",
    "xgdmat = xgb.DMatrix(X_train_final,y_train)\n",
    "predict_y = bst.predict(d_test)\n",
    "print(\"The test log loss is:\",log_loss(y_test, predict_y, eps=1e-15))"
   ]
  },
  {
   "cell_type": "code",
   "execution_count": 80,
   "metadata": {},
   "outputs": [
    {
     "name": "stdout",
     "output_type": "stream",
     "text": [
      "Total number of data points : 30000\n"
     ]
    },
    {
     "data": {
      "image/png": "[encoded data removed]",
      "text/plain": [
       "<Figure size 1440x288 with 6 Axes>"
      ]
     },
     "metadata": {
      "needs_background": "light"
     },
     "output_type": "display_data"
    }
   ],
   "source": [
    "#Confusion matrix for xgboost(weighted w2v)\n",
    "from sklearn.metrics import confusion_matrix\n",
    "from sklearn.metrics.classification import accuracy_score, log_loss\n",
    "import seaborn as sns\n",
    "predicted_y =np.array(predict_y>0.5,dtype=int)\n",
    "print(\"Total number of data points :\", len(predicted_y))\n",
    "plot_confusion_matrix(y_test, predicted_y)"
   ]
  },
  {
   "cell_type": "code",
   "execution_count": 81,
   "metadata": {},
   "outputs": [
    {
     "name": "stdout",
     "output_type": "stream",
     "text": [
      "Shape of question1 train data: (70000, 5131)\n",
      "Shape of question1 test data: (30000, 5131)\n",
      "Shape of question2 train data: (70000, 5131)\n",
      "Shape of question2 test data: (30000, 5131)\n"
     ]
    }
   ],
   "source": [
    "#Applying tfidf for question 1 and question 2\n",
    "from sklearn.feature_extraction.text import TfidfVectorizer\n",
    "from sklearn.feature_extraction.text import CountVectorizer\n",
    "from scipy.sparse import coo_matrix, hstack\n",
    "from scipy.sparse import csr_matrix\n",
    "tfidf = TfidfVectorizer(lowercase=False,min_df=10)\n",
    "A = tfidf.fit(X_train['question1'])\n",
    "B = tfidf.fit(X_train['question2'])\n",
    "#Performing tfidf vectorization on train and test data for both question1 and question2\n",
    "q1_tfidf_train = A.transform(X_train['question1'])\n",
    "q1_tfidf_test = A.transform(X_test['question1'])\n",
    "q2_tfidf_train = B.transform(X_train['question2'])\n",
    "q2_tfidf_test = B.transform(X_test['question2'])\n",
    "\n",
    "print(\"Shape of question1 train data:\" ,q1_tfidf_train.shape)\n",
    "print(\"Shape of question1 test data:\" ,q1_tfidf_test.shape)\n",
    "print(\"Shape of question2 train data:\" ,q2_tfidf_train.shape)\n",
    "print(\"Shape of question2 test data:\" ,q2_tfidf_test.shape)"
   ]
  },
  {
   "cell_type": "code",
   "execution_count": 83,
   "metadata": {},
   "outputs": [
    {
     "name": "stdout",
     "output_type": "stream",
     "text": [
      "Shape of train data(q1 and q2) is :  (70000, 10262)\n",
      "Shape of test data(q1 and q2) is :  (30000, 10262)\n"
     ]
    }
   ],
   "source": [
    "#combining q1 and q2 using hstack and storing as csr_matrix\n",
    "from scipy.sparse import coo_matrix, hstack, vstack\n",
    "#question1 and question2 - train data\n",
    "cm_train_q1 = coo_matrix(q1_tfidf_train)\n",
    "cm_train_q2 = coo_matrix(q2_tfidf_train)\n",
    "q1_q2_train = hstack([cm_train_q1,cm_train_q2])\n",
    "\n",
    "#question1 and question2 - test data\n",
    "cm_test_q1 = coo_matrix(q1_tfidf_test)\n",
    "cm_test_q2 = coo_matrix(q2_tfidf_test)\n",
    "q1_q2_test = hstack([cm_test_q1,cm_test_q2])\n",
    "\n",
    "sp_arr_train = csr_matrix(q1_q2_train)\n",
    "sdf_train = pd.SparseDataFrame(sp_arr_train)\n",
    "sp_arr_test = csr_matrix(q1_q2_test)\n",
    "sdf_test = pd.SparseDataFrame(sp_arr_test)\n",
    "print(\"Shape of train data(q1 and q2) is : \" ,sp_arr_train.shape)\n",
    "print(\"Shape of test data(q1 and q2) is : \", sp_arr_test.shape)"
   ]
  },
  {
   "cell_type": "code",
   "execution_count": 87,
   "metadata": {},
   "outputs": [
    {
     "name": "stdout",
     "output_type": "stream",
     "text": [
      "---------- Distribution of output variable in train data ----------\n",
      "Class 0:  0.6308979056759115 Class 1:  0.3691020943240884\n",
      "---------- Distribution of output variable in train data ----------\n",
      "Class 0:  0.3694212899981037 Class 1:  0.3694212899981037\n"
     ]
    }
   ],
   "source": [
    "print(\"-\"*10, \"Distribution of output variable in train data\", \"-\"*10)\n",
    "train_distr = Counter(y_train)\n",
    "train_len = len(y_train)\n",
    "print(\"Class 0: \",int(train_distr[0])/train_len,\"Class 1: \", int(train_distr[1])/train_len)\n",
    "print(\"-\"*10, \"Distribution of output variable in train data\", \"-\"*10)\n",
    "test_distr = Counter(y_test)\n",
    "test_len = len(y_test)\n",
    "print(\"Class 0: \",int(test_distr[1])/test_len, \"Class 1: \",int(test_distr[1])/test_len)"
   ]
  },
  {
   "cell_type": "code",
   "execution_count": 75,
   "metadata": {},
   "outputs": [],
   "source": [
    "# This function plots the confusion matrices given y_i, y_i_hat.\n",
    "def plot_confusion_matrix(test_y, predict_y):\n",
    "    C = confusion_matrix(test_y, predict_y)\n",
    "    # C = 9,9 matrix, each cell (i,j) represents number of points of class i are predicted class j\n",
    "    \n",
    "    A =(((C.T)/(C.sum(axis=1))).T)\n",
    "    #divid each element of the confusion matrix with the sum of elements in that column\n",
    "    \n",
    "    # C = [[1, 2],\n",
    "    #     [3, 4]]\n",
    "    # C.T = [[1, 3],\n",
    "    #        [2, 4]]\n",
    "    # C.sum(axis = 1)  axis=0 corresonds to columns and axis=1 corresponds to rows in two diamensional array\n",
    "    # C.sum(axix =1) = [[3, 7]]\n",
    "    # ((C.T)/(C.sum(axis=1))) = [[1/3, 3/7]\n",
    "    #                           [2/3, 4/7]]\n",
    "\n",
    "    # ((C.T)/(C.sum(axis=1))).T = [[1/3, 2/3]\n",
    "    #                           [3/7, 4/7]]\n",
    "    # sum of row elements = 1\n",
    "    \n",
    "    B =(C/C.sum(axis=0))\n",
    "    #divid each element of the confusion matrix with the sum of elements in that row\n",
    "    # C = [[1, 2],\n",
    "    #     [3, 4]]\n",
    "    # C.sum(axis = 0)  axis=0 corresonds to columns and axis=1 corresponds to rows in two diamensional array\n",
    "    # C.sum(axix =0) = [[4, 6]]\n",
    "    # (C/C.sum(axis=0)) = [[1/4, 2/6],\n",
    "    #                      [3/4, 4/6]] \n",
    "    plt.figure(figsize=(20,4))\n",
    "    \n",
    "    labels = [1,2]\n",
    "    # representing A in heatmap format\n",
    "    cmap=sns.light_palette(\"blue\")\n",
    "    plt.subplot(1, 3, 1)\n",
    "    sns.heatmap(C, annot=True, cmap=cmap, fmt=\".3f\", xticklabels=labels, yticklabels=labels)\n",
    "    plt.xlabel('Predicted Class')\n",
    "    plt.ylabel('Original Class')\n",
    "    plt.title(\"Confusion matrix\")\n",
    "    \n",
    "    plt.subplot(1, 3, 2)\n",
    "    sns.heatmap(B, annot=True, cmap=cmap, fmt=\".3f\", xticklabels=labels, yticklabels=labels)\n",
    "    plt.xlabel('Predicted Class')\n",
    "    plt.ylabel('Original Class')\n",
    "    plt.title(\"Precision matrix\")\n",
    "    \n",
    "    plt.subplot(1, 3, 3)\n",
    "    # representing B in heatmap format\n",
    "    sns.heatmap(A, annot=True, cmap=cmap, fmt=\".3f\", xticklabels=labels, yticklabels=labels)\n",
    "    plt.xlabel('Predicted Class')\n",
    "    plt.ylabel('Original Class')\n",
    "    plt.title(\"Recall matrix\")\n",
    "    \n",
    "    plt.show()"
   ]
  },
  {
   "cell_type": "code",
   "execution_count": 89,
   "metadata": {},
   "outputs": [
    {
     "name": "stdout",
     "output_type": "stream",
     "text": [
      "Log loss on Test Data using Random Model 0.8863712089442\n"
     ]
    },
    {
     "data": {
      "image/png": "[encoded data removed]",
      "text/plain": [
       "<Figure size 1440x288 with 6 Axes>"
      ]
     },
     "metadata": {
      "needs_background": "light"
     },
     "output_type": "display_data"
    }
   ],
   "source": [
    "# we need to generate 9 numbers and the sum of numbers should be 1\n",
    "# one solution is to genarate 9 numbers and divide each of the numbers by their sum\n",
    "# ref: https://stackoverflow.com/a/18662466/4084039\n",
    "# we create a output array that has exactly same size as the CV data\n",
    "from sklearn.metrics import confusion_matrix\n",
    "from sklearn.metrics.classification import accuracy_score, log_loss\n",
    "import seaborn as sns\n",
    "predicted_y = np.zeros((test_len,2))\n",
    "for i in range(test_len):\n",
    "    rand_probs = np.random.rand(1,2)\n",
    "    predicted_y[i] = ((rand_probs/sum(sum(rand_probs)))[0])\n",
    "print(\"Log loss on Test Data using Random Model\",log_loss(y_test, predicted_y, eps=1e-15))\n",
    "\n",
    "predicted_y =np.argmax(predicted_y, axis=1)\n",
    "plot_confusion_matrix(y_test, predicted_y)"
   ]
  },
  {
   "cell_type": "code",
   "execution_count": 90,
   "metadata": {},
   "outputs": [
    {
     "name": "stdout",
     "output_type": "stream",
     "text": [
      "For values of alpha =  1e-05 The log loss is: 0.514367998481086\n",
      "For values of alpha =  0.0001 The log loss is: 0.532638984057464\n",
      "For values of alpha =  0.001 The log loss is: 0.5645020763443293\n",
      "For values of alpha =  0.01 The log loss is: 0.5913107843661922\n",
      "For values of alpha =  0.1 The log loss is: 0.6413974160251106\n",
      "For values of alpha =  1 The log loss is: 0.6508367279954476\n",
      "For values of alpha =  10 The log loss is: 0.6517410265762421\n"
     ]
    },
    {
     "data": {
      "image/png": "[encoded data removed]",
      "text/plain": [
       "<Figure size 432x288 with 1 Axes>"
      ]
     },
     "metadata": {
      "needs_background": "light"
     },
     "output_type": "display_data"
    },
    {
     "name": "stdout",
     "output_type": "stream",
     "text": [
      "For values of best alpha =  1e-05 The train log loss is: 0.48609230689534855\n",
      "For values of best alpha =  1e-05 The test log loss is: 0.514367998481086\n",
      "Total number of data points : 121287\n"
     ]
    },
    {
     "data": {
      "image/png": "[encoded data removed]",
      "text/plain": [
       "<Figure size 1440x288 with 6 Axes>"
      ]
     },
     "metadata": {
      "needs_background": "light"
     },
     "output_type": "display_data"
    }
   ],
   "source": [
    "# hyperparam for SGD classifier.\n",
    "alpha = [10 ** x for x in range(-5, 2)] \n",
    "from sklearn.linear_model import SGDClassifier\n",
    "from sklearn.calibration import CalibratedClassifierCV\n",
    "log_error_array=[]\n",
    "for i in alpha:\n",
    "    clf = SGDClassifier(alpha=i, penalty='l2', loss='log', random_state=42)\n",
    "    clf.fit(sp_arr_train, y_train)\n",
    "    sig_clf = CalibratedClassifierCV(clf, method=\"sigmoid\")\n",
    "    sig_clf.fit(sp_arr_train, y_train)\n",
    "    predict_y = sig_clf.predict_proba(sp_arr_test)\n",
    "    log_error_array.append(log_loss(y_test, predict_y, labels=clf.classes_, eps=1e-15))\n",
    "    print('For values of alpha = ', i, \"The log loss is:\",log_loss(y_test, predict_y, labels=clf.classes_, eps=1e-15))\n",
    "\n",
    "fig, ax = plt.subplots()\n",
    "ax.plot(alpha, log_error_array,c='g')\n",
    "for i, txt in enumerate(np.round(log_error_array,3)):\n",
    "    ax.annotate((alpha[i],np.round(txt,3)), (alpha[i],log_error_array[i]))\n",
    "plt.grid()\n",
    "plt.title(\"Cross Validation Error for each alpha\")\n",
    "plt.xlabel(\"Alpha i's\")\n",
    "plt.ylabel(\"Error measure\")\n",
    "plt.show()\n",
    "\n",
    "\n",
    "best_alpha = np.argmin(log_error_array)\n",
    "clf = SGDClassifier(alpha=alpha[best_alpha], penalty='l2', loss='log', random_state=42)\n",
    "clf.fit(sp_arr_train, y_train)\n",
    "sig_clf = CalibratedClassifierCV(clf, method=\"sigmoid\")\n",
    "sig_clf.fit(sp_arr_train, y_train)\n",
    "\n",
    "predict_y = sig_clf.predict_proba(sp_arr_train)\n",
    "print('For values of best alpha = ', alpha[best_alpha], \"The train log loss is:\",log_loss(y_train, predict_y, labels=clf.classes_, eps=1e-15))\n",
    "predict_y = sig_clf.predict_proba(sp_arr_test)\n",
    "print('For values of best alpha = ', alpha[best_alpha], \"The test log loss is:\",log_loss(y_test, predict_y, labels=clf.classes_, eps=1e-15))\n",
    "predicted_y =np.argmax(predict_y,axis=1)\n",
    "print(\"Total number of data points :\", len(predicted_y))\n",
    "plot_confusion_matrix(y_test, predicted_y)"
   ]
  },
  {
   "cell_type": "code",
   "execution_count": 91,
   "metadata": {},
   "outputs": [
    {
     "name": "stdout",
     "output_type": "stream",
     "text": [
      "For values of alpha =  1e-05 The log loss is: 0.5250916660557741\n",
      "For values of alpha =  0.0001 The log loss is: 0.5813726562417271\n",
      "For values of alpha =  0.001 The log loss is: 0.6364754928934762\n",
      "For values of alpha =  0.01 The log loss is: 0.6586471817012416\n",
      "For values of alpha =  0.1 The log loss is: 0.6586471817012413\n",
      "For values of alpha =  1 The log loss is: 0.6586471817012416\n",
      "For values of alpha =  10 The log loss is: 0.6586471816987486\n"
     ]
    },
    {
     "data": {
      "image/png": "[encoded data removed]",
      "text/plain": [
       "<Figure size 432x288 with 1 Axes>"
      ]
     },
     "metadata": {
      "needs_background": "light"
     },
     "output_type": "display_data"
    },
    {
     "name": "stdout",
     "output_type": "stream",
     "text": [
      "For values of best alpha =  1e-05 The train log loss is: 0.5040927020346299\n",
      "For values of best alpha =  1e-05 The test log loss is: 0.5250916660557741\n",
      "Total number of data points : 121287\n"
     ]
    },
    {
     "data": {
      "image/png": "[encoded data removed]",
      "text/plain": [
       "<Figure size 1440x288 with 6 Axes>"
      ]
     },
     "metadata": {
      "needs_background": "light"
     },
     "output_type": "display_data"
    }
   ],
   "source": [
    "alpha = [10 ** x for x in range(-5, 2)] # hyperparam for SGD classifier.\n",
    "\n",
    "log_error_array=[]\n",
    "for i in alpha:\n",
    "    clf = SGDClassifier(alpha=i, penalty='l1', loss='hinge', random_state=42)\n",
    "    clf.fit(sp_arr_train, y_train)\n",
    "    sig_clf = CalibratedClassifierCV(clf, method=\"sigmoid\")\n",
    "    sig_clf.fit(sp_arr_train, y_train)\n",
    "    predict_y = sig_clf.predict_proba(sp_arr_test)\n",
    "    log_error_array.append(log_loss(y_test, predict_y, labels=clf.classes_, eps=1e-15))\n",
    "    print('For values of alpha = ', i, \"The log loss is:\",log_loss(y_test, predict_y, labels=clf.classes_, eps=1e-15))\n",
    "\n",
    "fig, ax = plt.subplots()\n",
    "ax.plot(alpha, log_error_array,c='g')\n",
    "for i, txt in enumerate(np.round(log_error_array,3)):\n",
    "    ax.annotate((alpha[i],np.round(txt,3)), (alpha[i],log_error_array[i]))\n",
    "plt.grid()\n",
    "plt.title(\"Cross Validation Error for each alpha\")\n",
    "plt.xlabel(\"Alpha i's\")\n",
    "plt.ylabel(\"Error measure\")\n",
    "plt.show()\n",
    "\n",
    "\n",
    "best_alpha = np.argmin(log_error_array)\n",
    "clf = SGDClassifier(alpha=alpha[best_alpha], penalty='l1', loss='hinge', random_state=42)\n",
    "clf.fit(sp_arr_train, y_train)\n",
    "sig_clf = CalibratedClassifierCV(clf, method=\"sigmoid\")\n",
    "sig_clf.fit(sp_arr_train, y_train)\n",
    "\n",
    "predict_y = sig_clf.predict_proba(sp_arr_train)\n",
    "print('For values of best alpha = ', alpha[best_alpha], \"The train log loss is:\",log_loss(y_train, predict_y, labels=clf.classes_, eps=1e-15))\n",
    "predict_y = sig_clf.predict_proba(sp_arr_test)\n",
    "print('For values of best alpha = ', alpha[best_alpha], \"The test log loss is:\",log_loss(y_test, predict_y, labels=clf.classes_, eps=1e-15))\n",
    "predicted_y =np.argmax(predict_y,axis=1)\n",
    "print(\"Total number of data points :\", len(predicted_y))\n",
    "plot_confusion_matrix(y_test, predicted_y)"
   ]
  },
  {
   "cell_type": "code",
   "execution_count": 112,
   "metadata": {},
   "outputs": [
    {
     "name": "stdout",
     "output_type": "stream",
     "text": [
      "Fitting 3 folds for each of 5 candidates, totalling 15 fits\n"
     ]
    },
    {
     "name": "stderr",
     "output_type": "stream",
     "text": [
      "[Parallel(n_jobs=-1)]: Using backend LokyBackend with 4 concurrent workers.\n",
      "[Parallel(n_jobs=-1)]: Done  15 out of  15 | elapsed: 19.0min finished\n"
     ]
    },
    {
     "name": "stdout",
     "output_type": "stream",
     "text": [
      "Random_search - cv results:\n",
      "{'mean_fit_time': array([259.63518143, 313.58426865, 214.67594544, 315.97240591,\n",
      "       298.91061719]), 'std_fit_time': array([22.96807117, 13.3330021 , 13.83601236,  1.5550521 , 29.73442296]), 'mean_score_time': array([1.92477687, 2.01478195, 2.02578251, 1.98911389, 1.320002  ]), 'std_score_time': array([0.14358484, 0.1286862 , 0.23643314, 0.10486146, 0.19799018]), 'param_max_depth': masked_array(data=[4, 5, 3, 5, 6],\n",
      "             mask=[False, False, False, False, False],\n",
      "       fill_value='?',\n",
      "            dtype=object), 'param_eta': masked_array(data=[0.01, 0.2, 0.01, 0.01, 0.05],\n",
      "             mask=[False, False, False, False, False],\n",
      "       fill_value='?',\n",
      "            dtype=object), 'params': [{'max_depth': 4, 'eta': 0.01}, {'max_depth': 5, 'eta': 0.2}, {'max_depth': 3, 'eta': 0.01}, {'max_depth': 5, 'eta': 0.01}, {'max_depth': 6, 'eta': 0.05}], 'split0_test_score': array([0.7123231 , 0.7203901 , 0.70218901, 0.7203901 , 0.72634759]), 'split1_test_score': array([0.71206564, 0.71952848, 0.70051095, 0.71952848, 0.72712914]), 'split2_test_score': array([0.71206564, 0.72031293, 0.70254627, 0.72031293, 0.72632349]), 'mean_test_score': array([0.71215146, 0.72007717, 0.70174874, 0.72007717, 0.72660007]), 'std_test_score': array([0.00012137, 0.00038926, 0.00088732, 0.00038926, 0.00037423]), 'rank_test_score': array([4, 2, 5, 2, 1])}\n",
      "Random_search Best Hyperparameters:\n",
      "{'max_depth': 6, 'eta': 0.05}\n"
     ]
    },
    {
     "data": {
      "text/plain": [
       "0.7266000713773352"
      ]
     },
     "execution_count": 112,
     "metadata": {},
     "output_type": "execute_result"
    }
   ],
   "source": [
    "#Applying XGBoost hyperparameter tuning for tfidf vectors\n",
    "from sklearn import svm\n",
    "from sklearn.model_selection import RandomizedSearchCV\n",
    "import xgboost as xgb\n",
    "from xgboost.sklearn import XGBClassifier\n",
    "from sklearn.calibration import CalibratedClassifierCV,calibration_curve\n",
    "from sklearn.model_selection import StratifiedKFold\n",
    "learning_rate = [0.001, 0.01, 0.1, 0.2, 0,3]\n",
    "max_depth = [3,4,5,6]\n",
    "#eval_metric = 'neg_log_loss'\n",
    "params = {'eta':eta,'max_depth':max_depth}\n",
    "#fit_params = {'eval_metric': 'logloss'}\n",
    "\n",
    "xgb = XGBClassifier(objective='binary:logistic',eval_metric = 'logloss')\n",
    "\n",
    "#d_train = xgb.DMatrix(sp_arr_train, label=y_train)\n",
    "#d_test = xgb.DMatrix(sp_arr_test, label=y_test)\n",
    "\n",
    "folds = 3\n",
    "param_comb = 5\n",
    "random_search = RandomizedSearchCV(xgb, param_distributions=params,n_iter=param_comb,verbose=3,random_state=1001,n_jobs=-1)\n",
    "\n",
    "random_search.fit(sp_arr_train, y_train)\n",
    "\n",
    "print(\"Random_search - cv results:\")\n",
    "print(random_search.cv_results_)\n",
    "print(\"Random_search Best Hyperparameters:\")\n",
    "print(random_search.best_params_)\n",
    "# summarize the results of the grid search\n",
    "(random_search.best_score_)\n"
   ]
  },
  {
   "cell_type": "code",
   "execution_count": 84,
   "metadata": {},
   "outputs": [
    {
     "name": "stdout",
     "output_type": "stream",
     "text": [
      "[0]\ttrain-logloss:0.686028\tvalid-logloss:0.686224\n",
      "Multiple eval metrics have been passed: 'valid-logloss' will be used for early stopping.\n",
      "\n",
      "Will train until valid-logloss hasn't improved in 20 rounds.\n",
      "[10]\ttrain-logloss:0.641082\tvalid-logloss:0.642798\n",
      "[20]\ttrain-logloss:0.619096\tvalid-logloss:0.622031\n",
      "[30]\ttrain-logloss:0.604887\tvalid-logloss:0.609188\n",
      "[40]\ttrain-logloss:0.594085\tvalid-logloss:0.600059\n",
      "[50]\ttrain-logloss:0.585902\tvalid-logloss:0.593574\n",
      "[60]\ttrain-logloss:0.578647\tvalid-logloss:0.587609\n",
      "[70]\ttrain-logloss:0.572547\tvalid-logloss:0.582833\n",
      "[80]\ttrain-logloss:0.567637\tvalid-logloss:0.578995\n",
      "[90]\ttrain-logloss:0.562921\tvalid-logloss:0.575346\n",
      "[100]\ttrain-logloss:0.558945\tvalid-logloss:0.572316\n",
      "[110]\ttrain-logloss:0.555166\tvalid-logloss:0.569488\n",
      "[120]\ttrain-logloss:0.551291\tvalid-logloss:0.566585\n",
      "[130]\ttrain-logloss:0.548149\tvalid-logloss:0.564253\n",
      "[140]\ttrain-logloss:0.544937\tvalid-logloss:0.561914\n",
      "[150]\ttrain-logloss:0.542117\tvalid-logloss:0.559819\n",
      "[160]\ttrain-logloss:0.539529\tvalid-logloss:0.557847\n",
      "[170]\ttrain-logloss:0.537482\tvalid-logloss:0.556336\n",
      "[180]\ttrain-logloss:0.534874\tvalid-logloss:0.554441\n",
      "[190]\ttrain-logloss:0.532265\tvalid-logloss:0.552664\n",
      "[200]\ttrain-logloss:0.529108\tvalid-logloss:0.550335\n",
      "[210]\ttrain-logloss:0.526455\tvalid-logloss:0.54832\n",
      "[220]\ttrain-logloss:0.523878\tvalid-logloss:0.546475\n",
      "[230]\ttrain-logloss:0.521594\tvalid-logloss:0.544827\n",
      "[240]\ttrain-logloss:0.51987\tvalid-logloss:0.543723\n",
      "[250]\ttrain-logloss:0.518131\tvalid-logloss:0.542539\n",
      "[260]\ttrain-logloss:0.516024\tvalid-logloss:0.54112\n",
      "[270]\ttrain-logloss:0.514511\tvalid-logloss:0.540207\n",
      "[280]\ttrain-logloss:0.512605\tvalid-logloss:0.538925\n",
      "[290]\ttrain-logloss:0.511079\tvalid-logloss:0.537971\n",
      "[300]\ttrain-logloss:0.509327\tvalid-logloss:0.536784\n",
      "[310]\ttrain-logloss:0.507917\tvalid-logloss:0.53593\n",
      "[320]\ttrain-logloss:0.506492\tvalid-logloss:0.535143\n",
      "[330]\ttrain-logloss:0.505197\tvalid-logloss:0.534442\n",
      "[340]\ttrain-logloss:0.503708\tvalid-logloss:0.533413\n",
      "[350]\ttrain-logloss:0.502378\tvalid-logloss:0.532644\n",
      "[360]\ttrain-logloss:0.50116\tvalid-logloss:0.531893\n",
      "[370]\ttrain-logloss:0.49982\tvalid-logloss:0.531108\n",
      "[380]\ttrain-logloss:0.49868\tvalid-logloss:0.530418\n",
      "[390]\ttrain-logloss:0.497421\tvalid-logloss:0.529622\n",
      "[399]\ttrain-logloss:0.496377\tvalid-logloss:0.529078\n",
      "The test log loss is: 0.5290760547414888\n"
     ]
    }
   ],
   "source": [
    "#XGBoost for tfidf vectors:\n",
    "import xgboost as xgb\n",
    "from sklearn.metrics import log_loss\n",
    "params = {}\n",
    "params['objective'] = 'binary:logistic'\n",
    "params['eval_metric'] = 'logloss'\n",
    "params['eta'] = 0.05\n",
    "params['max_depth'] = 6\n",
    "\n",
    "d_train = xgb.DMatrix(sp_arr_train, label=y_train)\n",
    "d_test = xgb.DMatrix(sp_arr_test, label=y_test)\n",
    "\n",
    "watchlist = [(d_train, 'train'), (d_test, 'valid')]\n",
    "\n",
    "bst = xgb.train(params, d_train, 400, watchlist, early_stopping_rounds=20, verbose_eval=10)\n",
    "\n",
    "xgdmat = xgb.DMatrix(sp_arr_train,y_train)\n",
    "predict_y_tfidf = bst.predict(d_test)\n",
    "print(\"The test log loss is:\",log_loss(y_test, predict_y_tfidf, eps=1e-15))"
   ]
  },
  {
   "cell_type": "code",
   "execution_count": 85,
   "metadata": {},
   "outputs": [
    {
     "name": "stdout",
     "output_type": "stream",
     "text": [
      "Total number of data points : 30000\n"
     ]
    },
    {
     "data": {
      "image/png": "[encoded data removed]",
      "text/plain": [
       "<Figure size 1440x288 with 6 Axes>"
      ]
     },
     "metadata": {
      "needs_background": "light"
     },
     "output_type": "display_data"
    }
   ],
   "source": [
    "from sklearn.metrics import confusion_matrix\n",
    "from sklearn.metrics.classification import accuracy_score, log_loss\n",
    "import seaborn as sns\n",
    "predicted_y =np.array(predict_y_tfidf>0.5,dtype=int)\n",
    "print(\"Total number of data points :\", len(predicted_y))\n",
    "plot_confusion_matrix(y_test, predicted_y)"
   ]
  },
  {
   "cell_type": "code",
   "execution_count": 82,
   "metadata": {},
   "outputs": [
    {
     "name": "stdout",
     "output_type": "stream",
     "text": [
      "+---------------------------------+----------+\n",
      "|              model              | log_loss |\n",
      "+---------------------------------+----------+\n",
      "|           Random Model          |   0.88   |\n",
      "|       Logistic Regression       |  0.514   |\n",
      "|            Linear SVM           |  0.525   |\n",
      "|             XGBoost             |  0.521   |\n",
      "| XGBoost with weighted TFIDF w2v |   0.40   |\n",
      "+---------------------------------+----------+\n"
     ]
    }
   ],
   "source": [
    "# Please compare all your models using Prettytable library. \n",
    "# You can have 3 tables, one each for kmeans, agllomerative and dbscan\n",
    "from prettytable import PrettyTable\n",
    "table = PrettyTable([\"model\",\"log_loss\"])\n",
    "table.add_row([\"Random Model\", \"0.88\"])\n",
    "table.add_row([\"Logistic Regression\", \"0.514\"])\n",
    "table.add_row([\"Linear SVM\", \"0.525\"])\n",
    "table.add_row([\"XGBoost\", \"0.521\"])\n",
    "table.add_row([\"XGBoost with weighted TFIDF w2v\", \"0.40\"])\n",
    "print(table)"
   ]
  },
  {
   "cell_type": "markdown",
   "metadata": {},
   "source": [
    "Obervation:\n",
    "    1. Applied tfidf vectorized features on the models LR, Linear SVM and XGBoost(TFIDF and TFIDF weighted w2v).\n",
    "    2. Hyperparameters for XGBoost(TFIDF) - max_depth = 6 and eta = 0.05\n",
    "    3. Hyperparameters for XGBoost(TFIDF weighted w2v) - max_depth = 6 and eta = 0.1\n",
    "    4. More or less, all the models give the same log-loss value. Considering the Recall matrix, XGBoost with weighted w2v has better results than the rest.\n",
    "    "
   ]
  }
 ],
 "metadata": {
  "colab": {
   "collapsed_sections": [],
   "name": "3.Q_Mean_W2V.ipynb",
   "provenance": [],
   "version": "0.3.2"
  },
  "kernelspec": {
   "display_name": "Python 3",
   "language": "python",
   "name": "python3"
  },
  "language_info": {
   "codemirror_mode": {
    "name": "ipython",
    "version": 3
   },
   "file_extension": ".py",
   "mimetype": "text/x-python",
   "name": "python",
   "nbconvert_exporter": "python",
   "pygments_lexer": "ipython3",
   "version": "3.6.7"
  }
 },
 "nbformat": 4,
 "nbformat_minor": 1
}
